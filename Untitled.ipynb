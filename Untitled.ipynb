{
 "cells": [
  {
   "cell_type": "code",
   "execution_count": 17,
   "id": "3ec6592e",
   "metadata": {},
   "outputs": [
    {
     "name": "stdout",
     "output_type": "stream",
     "text": [
      "sheiyvanet teqsti: saba guledani gamarjoba\n",
      "\u001b[1msab\u001b[0ma \u001b[1mgul\u001b[0medani \u001b[1mgam\u001b[0marjoba \n"
     ]
    }
   ],
   "source": [
    "text = input(\"sheiyvanet teqsti: \")\n",
    "new_text = ''\n",
    "for word in text.split():\n",
    "    new_text += (((\"\\033[1m\" + word[:3] + \"\\033[0m\") + word[3:])+\" \")\n",
    "print(new_text)"
   ]
  },
  {
   "cell_type": "code",
   "execution_count": 1,
   "id": "3263a340",
   "metadata": {},
   "outputs": [],
   "source": [
    "import re\n",
    "import time\n",
    "from random import randint\n",
    "import requests\n",
    "from selenium import webdriver\n",
    "import chromedriver_binary\n",
    "from selenium.webdriver.support.ui import WebDriverWait\n",
    "from selenium.webdriver.common.by import By\n",
    "from selenium.webdriver.common.action_chains import ActionChains\n",
    "from selenium.webdriver.support import expected_conditions as EC\n",
    "from bs4 import BeautifulSoup\n",
    "import csv\n",
    "\n",
    "options = webdriver.ChromeOptions()\n",
    "options.add_argument('--headless')\n",
    "\n",
    "\n",
    "wd = webdriver.Chrome(options=options)\n",
    "wd.implicitly_wait(15)\n",
    "\n",
    "for i in range(1, 6):\n",
    "    url = f'https://www.primecrime.ru/characters/top/?sort=byPlace&order=asc&page={i}'\n",
    "    \n",
    "    wd.get(url)  # aq saiti chairtveba\n",
    "    elem = WebDriverWait(wd, 15).until(\n",
    "        EC.presence_of_element_located((By.XPATH, '/html/body/table/tbody/tr[1]/td'))\n",
    "        # This is a dummy element\n",
    "    )  # velodebit bolomde chatvirtvas\n",
    "    time.sleep(2)\n",
    "    \n",
    "    content = wd.page_source\n",
    "    \n",
    "    soup = BeautifulSoup(content, 'html.parser')  # vparsavt\n",
    "    \n",
    "    all_items = soup.find_all('tr', {'class': 'trt'})\n",
    "    \n",
    "    f = open(\"qurdebis_baza.csv\", \"a\", newline='\\n', encoding='UTF-8_sig')\n",
    "    write_obj = csv.writer(f)\n",
    "\n",
    "    for item in all_items:\n",
    "        my_list = []\n",
    "        all_td = item.find_all('td')\n",
    "        name = all_td[2].a.text\n",
    "        klichka = all_td[3].a.text\n",
    "        split_name = \"\".join([(\" \"+i if i.isupper() else i) for i in name]).strip()\n",
    "        split_klichka = \"\".join([(\" \"+i if i.isupper() else i) for i in klichka]).strip()\n",
    "        \n",
    "        write_obj.writerow([split_name,split_klichka])\n",
    "\n",
    "    f.close()\n",
    "    time.sleep(randint(5, 15))"
   ]
  },
  {
   "cell_type": "code",
   "execution_count": null,
   "id": "9a3f74aa",
   "metadata": {},
   "outputs": [],
   "source": []
  }
 ],
 "metadata": {
  "kernelspec": {
   "display_name": "Python 3 (ipykernel)",
   "language": "python",
   "name": "python3"
  },
  "language_info": {
   "codemirror_mode": {
    "name": "ipython",
    "version": 3
   },
   "file_extension": ".py",
   "mimetype": "text/x-python",
   "name": "python",
   "nbconvert_exporter": "python",
   "pygments_lexer": "ipython3",
   "version": "3.9.12"
  }
 },
 "nbformat": 4,
 "nbformat_minor": 5
}
